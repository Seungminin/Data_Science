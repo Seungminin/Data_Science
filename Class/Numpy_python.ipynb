{
 "cells": [
  {
   "cell_type": "markdown",
   "id": "3ce06e2b",
   "metadata": {},
   "source": [
    "#numpy 공부"
   ]
  },
  {
   "cell_type": "code",
   "execution_count": 3,
   "id": "cdf2ec70",
   "metadata": {},
   "outputs": [],
   "source": [
    "import numpy as np"
   ]
  },
  {
   "cell_type": "code",
   "execution_count": 4,
   "id": "a393e60e",
   "metadata": {},
   "outputs": [
    {
     "data": {
      "text/plain": [
       "'\\nnp.arange(start, finish, step) finish는 출력 X\\nnp.linspace(start, finish, 몇 개의 수를 그 사이에 넣을 수 있냐.) finish 숫자를 포함\\n'"
      ]
     },
     "execution_count": 4,
     "metadata": {},
     "output_type": "execute_result"
    }
   ],
   "source": [
    "\"\"\"\n",
    "ndarray.ndim : axes가 몇개인 지, 축이 몇개이냐? (row, col)\n",
    "ndarray.shape : row, column\n",
    "ndarray.size : element를 몇개 가지고 있는 지\n",
    "ndarray.dtype : array의 type -> int64인지, float64인지\n",
    "ndarray.itemsize : 각각의 element의 byte\n",
    "ndarray.data : elements의 실제 버퍼\n",
    "\"\"\"\n",
    "\"\"\"\n",
    "np.arange(start, finish, step) finish는 출력 X\n",
    "np.linspace(start, finish, 몇 개의 수를 그 사이에 넣을 수 있냐.) finish 숫자를 포함\n",
    "np.random.uniform (low = , high =, size = ) : low~high까지의 data값들을 size만큼 출력\n",
    "np.round(instance, 2) : 소수점 둘 째자리까지 출력\n",
    "np.array(list) : list형태나 tuple형태를 nadrray로 바꿔준다.\n",
    "\"\"\""
   ]
  },
  {
   "cell_type": "code",
   "execution_count": 19,
   "id": "c1c3d808",
   "metadata": {},
   "outputs": [
    {
     "name": "stdout",
     "output_type": "stream",
     "text": [
      "[77.26 74.68 64.51 86.26 63.45 69.8  78.67 59.34 80.22 45.11 67.23 85.13\n",
      " 45.77 47.35 63.01 65.77 67.46 60.67 75.42 42.23 47.28 77.95 55.1  79.03\n",
      " 51.68 78.75 51.34 55.37 52.73 41.67 49.67 65.38 63.5  60.05 40.06 80.14\n",
      " 54.53 75.55 42.36 56.33 64.87 70.29 51.14 69.99 68.97 84.   42.39 86.98\n",
      " 46.18 84.05 41.05 87.54 66.79 74.95 40.23 77.66 54.14 47.88 65.08 79.98\n",
      " 41.76 63.73 63.3  63.02 49.53 86.36 76.87 74.74 73.56 76.1  46.28 41.85\n",
      " 78.72 65.78 49.29 69.13 69.41 77.56 70.5  60.39 56.42 47.04 71.53 57.15\n",
      " 73.18 44.41 44.18 68.35 68.06 40.64 86.77 79.1  83.48 62.6  52.92 48.57\n",
      " 72.74 44.77 58.03 87.65]\n",
      "\n",
      "[1.48 1.56 1.73 1.69 1.99 1.81 1.69 1.57 1.44 1.45 1.59 1.46 1.52 1.83\n",
      " 1.46 1.81 1.6  1.56 1.85 1.77 1.65 1.7  1.67 1.43 1.56 1.57 1.47 1.69\n",
      " 1.42 2.   1.76 1.97 1.44 1.42 1.89 1.88 1.83 1.8  1.44 1.91 1.8  1.81\n",
      " 1.79 1.46 1.82 1.66 1.62 1.47 1.62 1.78 1.71 1.78 1.92 1.93 1.85 1.56\n",
      " 1.58 1.82 1.52 1.87 1.66 1.44 1.96 1.49 1.47 1.42 2.   1.63 1.89 1.51\n",
      " 1.76 1.99 1.88 1.68 1.75 1.49 1.93 1.75 1.62 1.63 1.6  1.49 1.96 1.91\n",
      " 1.97 1.8  1.82 1.7  1.97 1.41 1.69 1.43 1.42 1.97 1.77 1.41 1.88 1.96\n",
      " 1.74 1.69]\n"
     ]
    }
   ],
   "source": [
    "wt = np.random.uniform(low = 40,high = 90, size = 100)\n",
    "wt = np.round(wt,2)\n",
    "print(wt)\n",
    "print()\n",
    "\n",
    "ht = np.random.uniform(low =1.4, high = 2.0, size = 100)\n",
    "ht = np.round(ht,2)\n",
    "print(ht)"
   ]
  },
  {
   "cell_type": "code",
   "execution_count": 20,
   "id": "ed9db471",
   "metadata": {},
   "outputs": [
    {
     "name": "stdout",
     "output_type": "stream",
     "text": [
      "[35.27 30.69 21.55 30.2  16.02 21.31 27.54 24.07 38.69 21.46 26.59 39.94\n",
      " 19.81 14.14 29.56 20.08 26.35 24.93 22.04 13.48 17.37 26.97 19.76 38.65\n",
      " 21.24 31.95 23.76 19.39 26.15 10.42 16.03 16.85 30.62 29.78 11.21 22.67\n",
      " 16.28 23.32 20.43 15.44 20.02 21.46 15.96 32.83 20.82 30.48 16.15 40.25\n",
      " 17.6  26.53 14.04 27.63 18.12 20.12 11.75 31.91 21.69 14.45 28.17 22.87\n",
      " 15.15 30.73 16.48 28.39 22.92 42.83 19.22 28.13 20.59 33.38 14.94 10.57\n",
      " 22.27 23.31 16.09 31.14 18.63 25.33 26.86 22.73 22.04 21.19 18.62 15.67\n",
      " 18.86 13.71 13.34 23.65 17.54 20.44 30.38 38.68 41.4  16.13 16.89 24.43\n",
      " 20.58 11.65 19.17 30.69]\n"
     ]
    }
   ],
   "source": [
    "BMI = wt/ht**2\n",
    "BMI_arr = np.array(BMI)\n",
    "BMI_arr = np.round(BMI_arr,2)\n",
    "print(BMI_arr)"
   ]
  },
  {
   "cell_type": "code",
   "execution_count": null,
   "id": "3b044306",
   "metadata": {},
   "outputs": [],
   "source": [
    "import numpy as np\n",
    "import matplotlib.pyplot as plt\n",
    "wt = np.random.uniform(low = 40,high = 90, size = 100)\n",
    "\n",
    "ht = np.random.uniform(low =1.4, high = 2.0, size = 100)\n",
    "\n",
    "BMI = wt/ht**2\n",
    "BMI_arr = np.array(BMI)\n",
    "BMI_arr = np.round(BMI_arr,2)\n",
    "\n",
    "print(BMI_arr)"
   ]
  }
 ],
 "metadata": {
  "kernelspec": {
   "display_name": "Python 3 (ipykernel)",
   "language": "python",
   "name": "python3"
  },
  "language_info": {
   "codemirror_mode": {
    "name": "ipython",
    "version": 3
   },
   "file_extension": ".py",
   "mimetype": "text/x-python",
   "name": "python",
   "nbconvert_exporter": "python",
   "pygments_lexer": "ipython3",
   "version": "3.11.5"
  }
 },
 "nbformat": 4,
 "nbformat_minor": 5
}
