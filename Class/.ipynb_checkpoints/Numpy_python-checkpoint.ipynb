{
 "cells": [
  {
   "cell_type": "markdown",
   "id": "3ce06e2b",
   "metadata": {},
   "source": [
    "#numpy 공부"
   ]
  },
  {
   "cell_type": "code",
   "execution_count": 3,
   "id": "cdf2ec70",
   "metadata": {},
   "outputs": [],
   "source": [
    "import numpy as np"
   ]
  },
  {
   "cell_type": "code",
   "execution_count": 4,
   "id": "a393e60e",
   "metadata": {},
   "outputs": [
    {
     "data": {
      "text/plain": [
       "'\\nnp.arange(start, finish, step) finish는 출력 X\\nnp.linspace(start, finish, 몇 개의 수를 그 사이에 넣을 수 있냐.) finish 숫자를 포함\\n'"
      ]
     },
     "execution_count": 4,
     "metadata": {},
     "output_type": "execute_result"
    }
   ],
   "source": [
    "\"\"\"\n",
    "ndarray.ndim : axes가 몇개인 지, 축이 몇개이냐? (row, col)\n",
    "ndarray.shape : row, column\n",
    "ndarray.size : element를 몇개 가지고 있는 지\n",
    "ndarray.dtype : array의 type -> int64인지, float64인지\n",
    "ndarray.itemsize : 각각의 element의 byte\n",
    "ndarray.data : elements의 실제 버퍼\n",
    "\"\"\"\n",
    "\"\"\"\n",
    "np.arange(start, finish, step) finish는 출력 X\n",
    "np.linspace(start, finish, 몇 개의 수를 그 사이에 넣을 수 있냐.) finish 숫자를 포함\n",
    "np.random.uniform (low = , high =, size = ) : low~high까지의 data값들을 size만큼 출력\n",
    "np.round(instance, 2) : 소수점 둘 째자리까지 출력\n",
    "np.array(list) : list형태나 tuple형태를 nadrray로 바꿔준다.\n",
    "\"\"\""
   ]
  },
  {
   "cell_type": "code",
   "execution_count": 17,
   "id": "c1c3d808",
   "metadata": {},
   "outputs": [
    {
     "name": "stdout",
     "output_type": "stream",
     "text": [
      "[45.31 63.87 88.78 54.   43.31 58.72 41.12 51.69 58.76 64.74 72.92 79.16\n",
      " 42.18 68.27 80.7  54.68 44.49 43.19 40.18 80.01 81.35 49.99 57.73 47.5\n",
      " 45.42 80.94 41.98 64.26 77.11 77.2  58.65 81.25 43.63 46.97 45.14 76.16\n",
      " 77.41 84.72 55.44 65.22 85.4  54.36 72.31 88.95 68.2  57.77 84.28 82.77\n",
      " 86.8  53.69 89.73 50.55 60.49 41.61 65.43 83.46 48.34 48.89 77.74 68.02\n",
      " 74.85 78.65 57.63 55.32 41.43 71.19 60.09 67.52 53.06 56.86 75.13 56.24\n",
      " 52.28 79.28 61.38 87.77 44.97 64.04 63.65 43.68 81.61 49.6  85.14 87.63\n",
      " 42.17 77.85 53.7  44.93 76.23 56.   67.43 59.59 84.85 66.24 52.11 80.86\n",
      " 89.37 54.48 88.89 89.5 ]\n",
      "\n",
      "[166.17 199.83 191.66 155.92 176.35 198.96 146.55 171.92 168.17 142.77\n",
      " 169.85 160.55 193.87 145.15 149.19 156.88 179.4  151.85 150.57 143.85\n",
      " 194.56 150.3  176.86 162.87 188.17 171.74 191.48 166.42 156.08 157.7\n",
      " 189.34 189.11 155.12 182.81 196.56 152.4  169.37 177.99 144.86 192.32\n",
      " 188.77 196.58 150.6  150.68 156.49 195.52 180.8  174.03 189.84 142.9\n",
      " 188.86 179.31 169.01 152.1  191.5  174.82 144.14 194.33 171.63 191.77\n",
      " 192.61 186.66 194.92 165.63 186.72 161.73 169.02 143.3  163.21 158.23\n",
      " 180.33 150.04 161.85 176.24 147.16 179.16 173.36 174.49 195.65 183.6\n",
      " 187.24 189.53 142.17 160.48 169.11 166.76 186.32 194.12 178.14 151.18\n",
      " 154.14 190.75 158.22 179.47 158.05 199.95 162.96 192.46 181.36 168.87]\n"
     ]
    }
   ],
   "source": [
    "wt = np.random.uniform(low = 40,high = 90, size = 100)\n",
    "wt = np.round(wt,2)\n",
    "print(wt)\n",
    "print()\n",
    "\n",
    "ht = np.random.uniform(low =140, high = 200, size = 100)\n",
    "ht = np.round(ht,2)\n",
    "print(ht)"
   ]
  },
  {
   "cell_type": "code",
   "execution_count": 18,
   "id": "ed9db471",
   "metadata": {},
   "outputs": [
    {
     "name": "stdout",
     "output_type": "stream",
     "text": [
      "[609.41 625.21 413.76 450.2  718.06 674.13 522.3  571.8  481.3  314.85\n",
      " 395.63 325.62 891.08 308.61 275.81 450.1  723.41 533.88 564.24 258.63\n",
      " 465.32 451.89 541.82 558.46 779.57 364.4  873.38 430.99 315.92 322.14\n",
      " 611.25 440.15 551.51 711.51 855.91 304.96 370.57 373.94 378.51 567.11\n",
      " 417.26 710.88 313.65 255.25 359.08 661.73 387.86 365.91 415.2  380.34\n",
      " 397.5  636.05 472.22 555.98 560.48 366.19 429.8  772.43 378.92 540.66\n",
      " 495.64 443.   659.27 495.9  841.52 367.42 475.42 304.13 502.03 440.32\n",
      " 432.84 400.28 501.06 391.78 352.82 365.71 668.31 475.43 601.4  771.73\n",
      " 429.59 724.23 237.4  293.89 678.16 357.21 646.46 838.7  416.29 408.13\n",
      " 352.35 610.6  295.03 486.25 479.37 494.43 297.15 679.9  370.02 318.63]\n"
     ]
    }
   ],
   "source": [
    "BMI = ht**2/wt\n",
    "BMI_arr = np.array(BMI)\n",
    "BMI_arr = np.round(BMI_arr,2)\n",
    "print(BMI_arr)"
   ]
  },
  {
   "cell_type": "code",
   "execution_count": null,
   "id": "3b044306",
   "metadata": {},
   "outputs": [],
   "source": [
    "import numpy as np\n",
    "\n",
    "wt = np.random.uniform(low = 40,high = 90, size = 100)\n",
    "wt = np.round(wt,2)\n",
    "print(wt)\n",
    "print()\n",
    "\n",
    "ht = np.random.uniform(low =140, high = 200, size = 100)\n",
    "ht = np.round(ht,2)\n",
    "print(ht)\n",
    "\n",
    "BMI = ht**2/wt\n",
    "BMI_arr = np.array(BMI)\n",
    "BMI_arr = np.round(BMI_arr,2)\n",
    "print(BMI_arr)"
   ]
  }
 ],
 "metadata": {
  "kernelspec": {
   "display_name": "Python 3 (ipykernel)",
   "language": "python",
   "name": "python3"
  },
  "language_info": {
   "codemirror_mode": {
    "name": "ipython",
    "version": 3
   },
   "file_extension": ".py",
   "mimetype": "text/x-python",
   "name": "python",
   "nbconvert_exporter": "python",
   "pygments_lexer": "ipython3",
   "version": "3.11.5"
  }
 },
 "nbformat": 4,
 "nbformat_minor": 5
}
