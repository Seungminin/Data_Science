{
 "cells": [
  {
   "cell_type": "code",
   "execution_count": 29,
   "metadata": {},
   "outputs": [],
   "source": [
    "from pprint import pprint\n",
    "\n",
    "import numpy as np\n",
    "import pandas as pd"
   ]
  },
  {
   "cell_type": "code",
   "execution_count": 30,
   "metadata": {},
   "outputs": [
    {
     "name": "stdout",
     "output_type": "stream",
     "text": [
      "<class 'pandas.core.frame.DataFrame'>\n",
      "RangeIndex: 14 entries, 0 to 13\n",
      "Data columns (total 5 columns):\n",
      " #   Column             Non-Null Count  Dtype \n",
      "---  ------             --------------  ----- \n",
      " 0   District           14 non-null     object\n",
      " 1   House Type         14 non-null     object\n",
      " 2   Income             14 non-null     object\n",
      " 3   Previous Customer  14 non-null     object\n",
      " 4   Outcome            14 non-null     object\n",
      "dtypes: object(5)\n",
      "memory usage: 692.0+ bytes\n",
      "None\n",
      "\n",
      "    District     House Type Income Previous Customer        Outcome\n",
      "0   Suburban       Detached   High                No  Not responded\n",
      "1   Suburban       Detached   High               Yes  Not responded\n",
      "2      Rural       Detached   High                No      Responded\n",
      "3      Urban  Semi-detached   High                No      Responded\n",
      "4      Urban  Semi-detached    Low                No      Responded\n",
      "5      Urban  Semi-detached    Low               Yes  Not responded\n",
      "6      Rural  Semi-detached    Low               Yes      Responded\n",
      "7   Suburban        Terrace   High                No  Not responded\n",
      "8   Suburban  Semi-detached    Low                No      Responded\n",
      "9      Urban        Terrace    Low                No      Responded\n",
      "10  Suburban        Terrace    Low               Yes      Responded\n",
      "11     Rural        Terrace   High               Yes      Responded\n",
      "12     Rural       Detached    Low                No      Responded\n",
      "13     Urban        Terrace   High               Yes  Not responded\n"
     ]
    }
   ],
   "source": [
    "#Save dataset from pandas DataFrame\n",
    "Data = {'District':['Suburban','Suburban','Rural','Urban','Urban','Urban','Rural','Suburban','Suburban','Urban','Suburban','Rural','Rural','Urban'],\n",
    "        'House Type':['Detached','Detached','Detached','Semi-detached','Semi-detached','Semi-detached','Semi-detached','Terrace','Semi-detached','Terrace',\n",
    "                      'Terrace','Terrace','Detached','Terrace'],\n",
    "        'Income':['High','High','High','High','Low','Low','Low','High','Low','Low','Low','High','Low','High'],\n",
    "        'Previous Customer':['No','Yes','No','No','No','Yes','Yes','No','No','No','Yes','Yes','No','Yes'],\n",
    "        'Outcome':['Not responded','Not responded','Responded','Responded','Responded','Not responded','Responded','Not responded','Responded','Responded',\n",
    "                   'Responded','Responded','Responded','Not responded']}\n",
    "\n",
    "#data load through pandas DataFrame\n",
    "dataset = pd.DataFrame(Data)\n",
    "print(dataset.info())\n",
    "print()\n",
    "print(dataset.head(14))"
   ]
  },
  {
   "cell_type": "code",
   "execution_count": 31,
   "metadata": {},
   "outputs": [
    {
     "name": "stdout",
     "output_type": "stream",
     "text": [
      "   District     House Type Income Previous Customer\n",
      "0  Suburban       Detached   High                No\n",
      "1  Suburban       Detached   High               Yes\n",
      "2     Rural       Detached   High                No\n",
      "3     Urban  Semi-detached   High                No\n",
      "4     Urban  Semi-detached    Low                No\n"
     ]
    }
   ],
   "source": [
    "#Splite data into X, Y\n",
    "features = dataset[['District','House Type','Income','Previous Customer']]\n",
    "target = dataset[['Outcome']]\n",
    "\n",
    "print(features.head())"
   ]
  },
  {
   "cell_type": "code",
   "execution_count": 32,
   "metadata": {},
   "outputs": [],
   "source": [
    "#Calcurate entropy Using log.\n",
    "def entropy(target_col):\n",
    "    elements, counts = np.unique(target_col, return_counts=True) #remove redundant data\n",
    "    entropy = 0\n",
    "    for i in range(len(elements)):\n",
    "        entropy += -np.sum((counts[i]/np.sum(counts))*np.log2(counts[i]/np.sum(counts)))\n",
    "    return entropy  \n",
    "\n",
    "#print('H(x) = ',round(entropy(target),2))"
   ]
  },
  {
   "cell_type": "code",
   "execution_count": 33,
   "metadata": {},
   "outputs": [
    {
     "name": "stdout",
     "output_type": "stream",
     "text": [
      "InfoGain( District ) =  0.25 \n",
      "\n",
      "InfoGain( House Type ) =  0.05 \n",
      "\n",
      "InfoGain( Income ) =  0.15 \n",
      "\n",
      "InfoGain( Previous Customer ) =  0.05\n"
     ]
    }
   ],
   "source": [
    "# Information Gain = M0 - M12 = entropy(root) - sig(weight*entropy)/N\n",
    "def InfoGain(data,split_name,target_name):\n",
    "    total_entropy = entropy(data[target_name]) #before split, original data entropy = MO\n",
    "    #print('Entropy(D) = ', round(total_entropy, 2))\n",
    "    \n",
    "    # Calculate entropy_root - average(np.sum(weight*child entropy))\n",
    "    vals,counts = np.unique(data[split_name],return_counts=True)\n",
    "\n",
    "    # specific column values matchs outcome. -> if data[split_name]!=vals[i] -> save NaN Thus use dropna() method\n",
    "    Weighted_Entropy = np.sum([counts[i]/np.sum(counts)*entropy(data.where(data[split_name]==vals[i]).dropna()[target_name])for i in range(len(vals))])\n",
    "    #print('H(', split_name, ') = ', round(Weighted_Entropy, 2))\n",
    "    \n",
    "    # Calculate Information_Gain.\n",
    "    Information_Gain = total_entropy - Weighted_Entropy\n",
    "    return Information_Gain\n",
    " \n",
    "print('InfoGain( District ) = ', round(InfoGain(dataset, \"District\", \"Outcome\"), 2), '\\n')\n",
    "print('InfoGain( House Type ) = ', round(InfoGain(dataset, \"House Type\", \"Outcome\"), 2), '\\n')\n",
    "print('InfoGain( Income ) = ', round(InfoGain(dataset, \"Income\", \"Outcome\"), 2), '\\n')\n",
    "print('InfoGain( Previous Customer ) = ', round(InfoGain(dataset, \"Previous Customer\", \"Outcome\"), 2))"
   ]
  },
  {
   "cell_type": "code",
   "execution_count": 34,
   "metadata": {},
   "outputs": [
    {
     "name": "stdout",
     "output_type": "stream",
     "text": [
      "   District     House Type Income Previous Customer    Outcome\n",
      "2     Rural       Detached   High                No  Responded\n",
      "6     Rural  Semi-detached    Low               Yes  Responded\n",
      "11    Rural        Terrace   High               Yes  Responded\n",
      "12    Rural       Detached    Low                No  Responded\n",
      "\n",
      "    District     House Type Income Previous Customer        Outcome\n",
      "0   Suburban       Detached   High                No  Not responded\n",
      "1   Suburban       Detached   High               Yes  Not responded\n",
      "7   Suburban        Terrace   High                No  Not responded\n",
      "8   Suburban  Semi-detached    Low                No      Responded\n",
      "10  Suburban        Terrace    Low               Yes      Responded\n",
      "   District House Type Income Previous Customer        Outcome\n",
      "0  Suburban   Detached   High                No  Not responded\n",
      "1  Suburban   Detached   High               Yes  Not responded\n",
      "7  Suburban    Terrace   High                No  Not responded\n",
      "\n",
      "    District     House Type Income Previous Customer    Outcome\n",
      "8   Suburban  Semi-detached    Low                No  Responded\n",
      "10  Suburban        Terrace    Low               Yes  Responded\n",
      "\n",
      "\n",
      "   District     House Type Income Previous Customer        Outcome\n",
      "3     Urban  Semi-detached   High                No      Responded\n",
      "4     Urban  Semi-detached    Low                No      Responded\n",
      "5     Urban  Semi-detached    Low               Yes  Not responded\n",
      "9     Urban        Terrace    Low                No      Responded\n",
      "13    Urban        Terrace   High               Yes  Not responded\n",
      "  District     House Type Income Previous Customer    Outcome\n",
      "3    Urban  Semi-detached   High                No  Responded\n",
      "4    Urban  Semi-detached    Low                No  Responded\n",
      "9    Urban        Terrace    Low                No  Responded\n",
      "\n",
      "   District     House Type Income Previous Customer        Outcome\n",
      "5     Urban  Semi-detached    Low               Yes  Not responded\n",
      "13    Urban        Terrace   High               Yes  Not responded\n",
      "\n",
      "\n",
      "{'District': {'Rural': 'Responded',\n",
      "              'Suburban': {'Income': {'High': 'Not responded',\n",
      "                                      'Low': 'Responded'}},\n",
      "              'Urban': {'Previous Customer': {'No': 'Responded',\n",
      "                                              'Yes': 'Not responded'}}}}\n"
     ]
    }
   ],
   "source": [
    "#Gain = Mo(initial dataset) - M12(Split node)\n",
    "#Gain is bigger, splited node, creteria is more relevant. -> it can be root node.\n",
    "#Using recursive Function. \n",
    "def decision_tree(dataset,original_data, features, target,parent_node_class=None):\n",
    "    #Condition of Pause\n",
    "    #1. target value is one, this must be splited.\n",
    "    if len(np.unique(dataset[target])) <= 1: \n",
    "        return np.unique(dataset[target])[0]\n",
    "    #2. feature = 0\n",
    "    elif len(features) == 0:\n",
    "        return parent_node_class\n",
    "    #3. dataset =0\n",
    "    elif len(dataset) == 0:\n",
    "        return np.unique(original_data[target])[np.argmax(np.unique(original_data[target], return_counts=True)[1])]\n",
    "    \n",
    "    #Find max_infogain \n",
    "    infogain = [InfoGain(dataset, feature, target) for feature in features]\n",
    "\n",
    "    #Save Outcome values. The meaning of node. ex) district = 'rural' -> parent_node_class saves responded.\n",
    "    parent_node_class = np.unique(dataset[target])[np.argmax(np.unique(dataset[target], return_counts=True)[1])]\n",
    "\n",
    "    #Make parent node the biggest Infogain features\n",
    "    max_index = np.argmax(infogain) #Find max_InfoGain index\n",
    "    parent_node = features[max_index]\n",
    "\n",
    "    tree = {parent_node : {}}\n",
    "    \n",
    "    update_features = [idx for idx in features if idx != parent_node]\n",
    "    \n",
    "    for values in np.unique(dataset[parent_node]):\n",
    "        sub_data = dataset.where(dataset[parent_node]==values).dropna()\n",
    "        print(sub_data.head())\n",
    "        subtree = decision_tree(sub_data,dataset,update_features,target,parent_node_class)\n",
    "        print()\n",
    "        tree[parent_node][values] = subtree \n",
    "        \n",
    "    return (tree)\n",
    "\n",
    "tree = decision_tree(dataset, dataset,[\"District\",\"House Type\",\"Income\",\"Previous Customer\"], \"Outcome\" )\n",
    "pprint(tree)\n"
   ]
  },
  {
   "cell_type": "code",
   "execution_count": 40,
   "metadata": {},
   "outputs": [
    {
     "name": "stdout",
     "output_type": "stream",
     "text": [
      "[('District', {'Rural': 'Responded', 'Suburban': {'Income': {'High': 'Not responded', 'Low': 'Responded'}}, 'Urban': {'Previous Customer': {'No': 'Responded', 'Yes': 'Not responded'}}})]\n"
     ]
    }
   ],
   "source": [
    "print([(feature, subtree) for feature, subtree in tree.items()])"
   ]
  },
  {
   "cell_type": "code",
   "execution_count": 38,
   "metadata": {},
   "outputs": [
    {
     "name": "stdout",
     "output_type": "stream",
     "text": [
      "Predicted Outcome is :  Responded\n"
     ]
    }
   ],
   "source": [
    "#Predict Outcome for new customer.\n",
    "def predict(tree, new_customer):\n",
    "    for feature, subtree in tree.items():\n",
    "        value = new_customer[feature]\n",
    "        if value in subtree:\n",
    "            if isinstance(subtree[value],dict): #if subtree is dictionary. return True\n",
    "                return predict(subtree[value], new_customer)\n",
    "            else:\n",
    "                return subtree[value]\n",
    "\n",
    "new_customer = {'District': 'Suburban', 'House Type': 'Detached', 'Income': 'Low', 'Previous Customer': 'Yes'}\n",
    "predicted_outcome = predict(tree, new_customer)\n",
    "print(\"Predicted Outcome is : \", predicted_outcome)"
   ]
  }
 ],
 "metadata": {
  "kernelspec": {
   "display_name": "Python 3",
   "language": "python",
   "name": "python3"
  },
  "language_info": {
   "codemirror_mode": {
    "name": "ipython",
    "version": 3
   },
   "file_extension": ".py",
   "mimetype": "text/x-python",
   "name": "python",
   "nbconvert_exporter": "python",
   "pygments_lexer": "ipython3",
   "version": "3.12.1"
  }
 },
 "nbformat": 4,
 "nbformat_minor": 2
}
