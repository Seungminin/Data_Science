{
 "cells": [
  {
   "cell_type": "code",
   "execution_count": 33,
   "metadata": {},
   "outputs": [],
   "source": [
    "import numpy as np\n",
    "import pandas as pd\n",
    "import math"
   ]
  },
  {
   "cell_type": "code",
   "execution_count": 34,
   "metadata": {},
   "outputs": [
    {
     "name": "stdout",
     "output_type": "stream",
     "text": [
      "0.9182958340544896\n"
     ]
    }
   ],
   "source": [
    "print(-(2/3*math.log(2/3,2)+1/3*math.log(1/3,2)))"
   ]
  },
  {
   "cell_type": "code",
   "execution_count": 35,
   "metadata": {},
   "outputs": [
    {
     "name": "stdout",
     "output_type": "stream",
     "text": [
      "0.02399999999999991\n"
     ]
    }
   ],
   "source": [
    "print(0.97-(2+3*0.91)/5)"
   ]
  },
  {
   "cell_type": "code",
   "execution_count": 55,
   "metadata": {},
   "outputs": [
    {
     "name": "stdout",
     "output_type": "stream",
     "text": [
      "<class 'pandas.core.frame.DataFrame'>\n",
      "RangeIndex: 14 entries, 0 to 13\n",
      "Data columns (total 5 columns):\n",
      " #   Column             Non-Null Count  Dtype \n",
      "---  ------             --------------  ----- \n",
      " 0   District           14 non-null     object\n",
      " 1   House Type         14 non-null     object\n",
      " 2   Income             14 non-null     object\n",
      " 3   Previous Customer  14 non-null     object\n",
      " 4   Outcome            14 non-null     object\n",
      "dtypes: object(5)\n",
      "memory usage: 692.0+ bytes\n",
      "None\n",
      "\n",
      "    District     House Type Income Previous Customer        Outcome\n",
      "0   Suburban       Detached   High                No  Not responded\n",
      "1   Suburban       Detached   High               Yes  Not responded\n",
      "2      Rural       Detached   High                No      Responded\n",
      "3      Urban  Semi-detached   High                No      Responded\n",
      "4      Urban  Semi-detached    Low                No      Responded\n",
      "5      Urban  Semi-detached    Low               Yes  Not responded\n",
      "6      Rural  Semi-detached    Low               Yes      Responded\n",
      "7   Suburban        Terrace   High                No  Not responded\n",
      "8   Suburban  Semi-detached    Low                No      Responded\n",
      "9      Urban        Terrace    Low                No      Responded\n",
      "10  Suburban        Terrace    Low               Yes      Responded\n",
      "11     Rural        Terrace   High               Yes      Responded\n",
      "12     Rural       Detached    Low                No      Responded\n",
      "13     Urban        Terrace   High               Yes  Not responded\n"
     ]
    }
   ],
   "source": [
    "#Save dataset from pandas DataFrame\n",
    "Data = {'District':['Suburban','Suburban','Rural','Urban','Urban','Urban','Rural','Suburban','Suburban','Urban','Suburban','Rural','Rural','Urban'],\n",
    "        'House Type':['Detached','Detached','Detached','Semi-detached','Semi-detached','Semi-detached','Semi-detached','Terrace','Semi-detached','Terrace',\n",
    "                      'Terrace','Terrace','Detached','Terrace'],\n",
    "        'Income':['High','High','High','High','Low','Low','Low','High','Low','Low','Low','High','Low','High'],\n",
    "        'Previous Customer':['No','Yes','No','No','No','Yes','Yes','No','No','No','Yes','Yes','No','Yes'],\n",
    "        'Outcome':['Not responded','Not responded','Responded','Responded','Responded','Not responded','Responded','Not responded','Responded','Responded',\n",
    "                   'Responded','Responded','Responded','Not responded']}\n",
    "\n",
    "dataset = pd.DataFrame(Data)\n",
    "print(dataset.info())\n",
    "print()\n",
    "print(dataset.head(14))"
   ]
  },
  {
   "cell_type": "code",
   "execution_count": 56,
   "metadata": {},
   "outputs": [
    {
     "name": "stdout",
     "output_type": "stream",
     "text": [
      "   District     House Type Income Previous Customer\n",
      "0  Suburban       Detached   High                No\n",
      "1  Suburban       Detached   High               Yes\n",
      "2     Rural       Detached   High                No\n",
      "3     Urban  Semi-detached   High                No\n",
      "4     Urban  Semi-detached    Low                No\n"
     ]
    }
   ],
   "source": [
    "features = dataset[['District','House Type','Income','Previous Customer']]\n",
    "target = dataset[['Outcome']]\n",
    "\n",
    "print(features.head())"
   ]
  },
  {
   "cell_type": "code",
   "execution_count": 51,
   "metadata": {},
   "outputs": [
    {
     "name": "stdout",
     "output_type": "stream",
     "text": [
      "H(x) =  0.94\n"
     ]
    }
   ],
   "source": [
    "#Original data entropy -> MO\n",
    "def entropy(target_col):\n",
    "    elements, counts = np.unique(target_col, return_counts=True) #remove redundant data\n",
    "    entropy = 0\n",
    "    for i in range(len(elements)):\n",
    "        entropy += -np.sum((counts[i]/np.sum(counts))*np.log2(counts[i]/np.sum(counts)))\n",
    "    return entropy  \n",
    "\n",
    "print('H(x) = ',round(entropy(target),2))"
   ]
  },
  {
   "cell_type": "code",
   "execution_count": 57,
   "metadata": {},
   "outputs": [
    {
     "name": "stdout",
     "output_type": "stream",
     "text": [
      "Entropy(D) =  0.94\n",
      "H( District ) =  0.69\n",
      "InfoGain( District ) =  0.25 \n",
      "\n",
      "Entropy(D) =  0.94\n",
      "H( House Type ) =  0.89\n",
      "InfoGain( House Type ) =  0.05 \n",
      "\n",
      "Entropy(D) =  0.94\n",
      "H( Income ) =  0.79\n",
      "InfoGain( Income ) =  0.15 \n",
      "\n",
      "Entropy(D) =  0.94\n",
      "H( Previous Customer ) =  0.89\n",
      "InfoGain( Previous Customer ) =  0.05\n"
     ]
    }
   ],
   "source": [
    "# 정보이득 \n",
    "def InfoGain(data,split_name,target_name):\n",
    "    total_entropy = entropy(data[target_name]) #before split, original data entropy = MO\n",
    "    print('Entropy(D) = ', round(total_entropy, 2))\n",
    "    \n",
    "    # Calculate entropy_root - average(np.sum(weight*child entropy))\n",
    "    vals,counts = np.unique(data[split_name],return_counts=True)\n",
    "\n",
    "    # specific column values matchs outcome. -> if data[split_name]!=vals[i] -> save NaN Thus use dropna() method\n",
    "    Weighted_Entropy = np.sum([counts[i]/np.sum(counts)*entropy(data.where(data[split_name]==vals[i]).dropna()[target_name])for i in range(len(vals))])\n",
    "    print('H(', split_name, ') = ', round(Weighted_Entropy, 2))\n",
    "    \n",
    "    # 정보이득 계산\n",
    "    Information_Gain = total_entropy - Weighted_Entropy\n",
    "    return Information_Gain\n",
    " \n",
    "print('InfoGain( District ) = ', round(InfoGain(dataset, \"District\", \"Outcome\"), 2), '\\n')\n",
    "print('InfoGain( House Type ) = ', round(InfoGain(dataset, \"House Type\", \"Outcome\"), 2), '\\n')\n",
    "print('InfoGain( Income ) = ', round(InfoGain(dataset, \"Income\", \"Outcome\"), 2), '\\n')\n",
    "print('InfoGain( Previous Customer ) = ', round(InfoGain(dataset, \"Previous Customer\", \"Outcome\"), 2))"
   ]
  },
  {
   "cell_type": "code",
   "execution_count": null,
   "metadata": {},
   "outputs": [],
   "source": [
    "def decision_tree(dataset, features, target):\n",
    "    tree = {parent_node:{}}\n",
    "    \n"
   ]
  },
  {
   "cell_type": "code",
   "execution_count": 23,
   "metadata": {},
   "outputs": [],
   "source": [
    "# ID3 알고리즘\n",
    "def ID3(data,originaldata,features,target_attribute_name,parent_node_class = None):\n",
    " \n",
    "    # 중지기준 정의\n",
    " \n",
    "    # 1. 대상 속성이 단일값을 가지면: 해당 대상 속성 반환\n",
    "    if len(np.unique(data[target_attribute_name])) <= 1:\n",
    "        return np.unique(data[target_attribute_name])[0]\n",
    " \n",
    "    # 2. 데이터가 없을 때: 원본 데이터에서 최대값을 가지는 대상 속성 반환\n",
    "    elif len(data)==0:\n",
    "        return np.unique(originaldata[target_attribute_name])\\\n",
    "               [np.argmax(np.unique(originaldata[target_attribute_name], return_counts=True)[1])]\n",
    " \n",
    "    # 3. 기술 속성이 없을 때: 부모 노드의 대상 속성 반환\n",
    "    elif len(features) ==0:\n",
    "        return parent_node_class\n",
    " \n",
    "    # 트리 성장\n",
    "    else:\n",
    "        # 부모노드의 대상 속성 정의(예: Good)\n",
    "        parent_node_class = np.unique(data[target_attribute_name])\\\n",
    "                            [np.argmax(np.unique(data[target_attribute_name], return_counts=True)[1])]\n",
    "        \n",
    "        # 데이터를 분할할 속성 선택\n",
    "        item_values = [InfoGain(data,feature,target_attribute_name) for feature in features]\n",
    "        best_feature_index = np.argmax(item_values)\n",
    "        best_feature = features[best_feature_index]\n",
    "        \n",
    "        # 트리 구조 생성\n",
    "        tree = {best_feature:{}}\n",
    "        \n",
    "        # 최대 정보이득을 보인 기술 속성 제외\n",
    "        features = [i for i in features if i != best_feature]\n",
    "        \n",
    "        # 가지 성장\n",
    "        for value in np.unique(data[best_feature]):\n",
    "            # 데이터 분할. dropna(): 결측값을 가진 행, 열 제거\n",
    "            sub_data = data.where(data[best_feature] == value).dropna()\n",
    "            \n",
    "            # ID3 알고리즘\n",
    "            subtree = ID3(sub_data,data,features,target_attribute_name,parent_node_class)\n",
    "            tree[best_feature][value] = subtree\n",
    "            \n",
    "        return(tree)"
   ]
  },
  {
   "cell_type": "code",
   "execution_count": 24,
   "metadata": {},
   "outputs": [
    {
     "name": "stdout",
     "output_type": "stream",
     "text": [
      "Entropy(D) =  0.94029\n",
      "H( District ) =  0.69354\n",
      "Entropy(D) =  0.94029\n",
      "H( House Type ) =  0.89031\n",
      "Entropy(D) =  0.94029\n",
      "H( Income ) =  0.78845\n",
      "Entropy(D) =  0.94029\n",
      "H( Previous Customer ) =  0.89216\n",
      "Entropy(D) =  0.94029\n",
      "H( House Type ) =  0.89031\n",
      "Entropy(D) =  0.94029\n",
      "H( Income ) =  0.78845\n",
      "Entropy(D) =  0.94029\n",
      "H( Previous Customer ) =  0.89216\n",
      "Entropy(D) =  0.94029\n",
      "H( House Type ) =  0.89031\n",
      "Entropy(D) =  0.94029\n",
      "H( Income ) =  0.78845\n",
      "Entropy(D) =  0.94029\n",
      "H( Previous Customer ) =  0.89216\n",
      "Entropy(D) =  0.94029\n",
      "H( House Type ) =  0.89031\n",
      "Entropy(D) =  0.94029\n",
      "H( Previous Customer ) =  0.89216\n",
      "Entropy(D) =  0.94029\n",
      "H( House Type ) =  0.89031\n",
      "Entropy(D) =  0.94029\n",
      "H( Previous Customer ) =  0.89216\n",
      "Entropy(D) =  0.94029\n",
      "H( Previous Customer ) =  0.89216\n",
      "{'District': {'Rural': 'Responded',\n",
      "              'Suburban': {'Income': {'High': 'Not responded',\n",
      "                                      'Low': 'Responded'}},\n",
      "              'Urban': {'Income': {'High': {'House Type': {'Semi-detached': 'Responded',\n",
      "                                                           'Terrace': 'Not '\n",
      "                                                                      'responded'}},\n",
      "                                   'Low': {'House Type': {'Semi-detached': {'Previous Customer': {'No': 'Responded',\n",
      "                                                                                                  'Yes': 'Not '\n",
      "                                                                                                         'responded'}},\n",
      "                                                          'Terrace': 'Responded'}}}}}}\n"
     ]
    }
   ],
   "source": [
    "tree = ID3(dataset_pd, dataset_pd, [\"District\",\"House Type\",\"Income\",\"Previous Customer\"], \"Outcome\")\n",
    "from pprint import pprint\n",
    "pprint(tree)\n"
   ]
  },
  {
   "cell_type": "code",
   "execution_count": 15,
   "metadata": {},
   "outputs": [
    {
     "name": "stdout",
     "output_type": "stream",
     "text": [
      "[['Suburban' 'Detached' 'High' 'No' 'Not responded']\n",
      " ['Suburban' 'Detached' 'High' 'Yes' 'Not responded']\n",
      " ['Rural' 'Detached' 'High' 'No' 'Responed']\n",
      " ['Urban' 'Semi-detached' 'High' 'No' 'Responed']\n",
      " ['Urban' 'Semi-detached' 'Low' 'No' 'Responed']\n",
      " ['Urban' 'Semi-detached' 'Low' 'Yes' 'Not responded']\n",
      " ['Rural' 'Semi-detached' 'Low' 'Yes' 'Responed']\n",
      " ['Suburban' 'Terrace' 'High' 'No' 'Not responded']\n",
      " ['Suburban' 'Semi-detached' 'Low' 'No' 'Responed']\n",
      " ['Urban' 'Terrace' 'Low' 'No' 'Responed']\n",
      " ['Suburban' 'Terrace' 'Low' 'Yes' 'Responed']\n",
      " ['Rural' 'Terrace' 'High' 'Yes' 'Responed']\n",
      " ['Rural' 'Detached' 'Low' 'No' 'Responed']\n",
      " ['Urban' 'Terrace' 'High' 'Yes' 'Not responed']]\n"
     ]
    }
   ],
   "source": [
    "# 14 x 5 matrix. \n",
    "dataset_np = dataset_pd.to_numpy()\n",
    "\n",
    "print(dataset_np)"
   ]
  },
  {
   "cell_type": "code",
   "execution_count": null,
   "metadata": {},
   "outputs": [],
   "source": [
    "#Gain = Mo(initial dataset) - M12(Split node)\n",
    "#Gain is bigger, splited node, creteria is more relevant. -> it can be root node.\n",
    "\n",
    "#Distinct Gain\n"
   ]
  }
 ],
 "metadata": {
  "kernelspec": {
   "display_name": "Python 3",
   "language": "python",
   "name": "python3"
  },
  "language_info": {
   "codemirror_mode": {
    "name": "ipython",
    "version": 3
   },
   "file_extension": ".py",
   "mimetype": "text/x-python",
   "name": "python",
   "nbconvert_exporter": "python",
   "pygments_lexer": "ipython3",
   "version": "3.12.1"
  }
 },
 "nbformat": 4,
 "nbformat_minor": 2
}
