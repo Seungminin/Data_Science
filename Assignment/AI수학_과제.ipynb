{
 "cells": [
  {
   "cell_type": "code",
   "execution_count": 1,
   "metadata": {},
   "outputs": [
    {
     "name": "stdout",
     "output_type": "stream",
     "text": [
      "3.999999999999999\n"
     ]
    }
   ],
   "source": [
    "import numpy as np\n",
    "\n",
    "A = np.array([[1, 0, 0, 0],\n",
    "              [2, 1, 0, 0],\n",
    "              [-2, 0, 2, 0],\n",
    "              [-1, 1, 3, 2]])\n",
    "\n",
    "det_A = np.linalg.det(A)\n",
    "print(det_A)\n"
   ]
  },
  {
   "cell_type": "code",
   "execution_count": 4,
   "metadata": {},
   "outputs": [
    {
     "name": "stdout",
     "output_type": "stream",
     "text": [
      "Principal Components:\n",
      "[[ 0.80864711 -0.58829402]\n",
      " [ 0.58829402  0.80864711]]\n"
     ]
    }
   ],
   "source": [
    "import numpy as np\n",
    "\n",
    "# 데이터셋\n",
    "X = np.array([[1, 2],\n",
    "              [3, 3],\n",
    "              [3, 5],\n",
    "              [5, 4],\n",
    "              [5, 6],\n",
    "              [6, 5],\n",
    "              [8, 7],\n",
    "              [9, 8]])\n",
    "\n",
    "# 데이터셋의 평균 계산\n",
    "mean_X = np.mean(X, axis=0)\n",
    "\n",
    "# 데이터셋의 중심을 원점으로 이동\n",
    "X_centered = X - mean_X\n",
    "\n",
    "# 공분산 행렬 계산\n",
    "covariance_matrix = np.cov(X_centered.T)\n",
    "\n",
    "# 공분산 행렬의 고유값과 고유벡터 계산\n",
    "eigenvalues, eigenvectors = np.linalg.eig(covariance_matrix)\n",
    "\n",
    "# 고유값이 큰 순서대로 고유벡터 정렬\n",
    "sorted_indices = np.argsort(eigenvalues)[::-1]\n",
    "principal_components = eigenvectors[:, sorted_indices]\n",
    "\n",
    "print(\"Principal Components:\")\n",
    "print(principal_components)\n"
   ]
  },
  {
   "cell_type": "code",
   "execution_count": 8,
   "metadata": {},
   "outputs": [
    {
     "name": "stdout",
     "output_type": "stream",
     "text": [
      "고유값: [3.41421356 2.         0.58578644]\n",
      "고유벡터:\n",
      " [[-5.00000000e-01 -7.07106781e-01  5.00000000e-01]\n",
      " [ 7.07106781e-01  4.05405432e-16  7.07106781e-01]\n",
      " [-5.00000000e-01  7.07106781e-01  5.00000000e-01]]\n"
     ]
    }
   ],
   "source": [
    "import numpy as np\n",
    "\n",
    "# 주어진 행렬 A#\n",
    "A = np.array([[2, -1, 0],\n",
    "              [-1, 2, -1],\n",
    "              [0, -1, 2]])\n",
    "\n",
    "# 고유값과 고유벡터 계산\n",
    "eigenvalues, eigenvectors = np.linalg.eig(A)\n",
    "\n",
    "# 결과 출력\n",
    "print(\"고유값:\", eigenvalues)\n",
    "print(\"고유벡터:\\n\", eigenvectors)\n"
   ]
  }
 ],
 "metadata": {
  "kernelspec": {
   "display_name": "Python 3",
   "language": "python",
   "name": "python3"
  },
  "language_info": {
   "codemirror_mode": {
    "name": "ipython",
    "version": 3
   },
   "file_extension": ".py",
   "mimetype": "text/x-python",
   "name": "python",
   "nbconvert_exporter": "python",
   "pygments_lexer": "ipython3",
   "version": "3.12.1"
  }
 },
 "nbformat": 4,
 "nbformat_minor": 2
}
