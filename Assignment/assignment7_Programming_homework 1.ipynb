{
 "cells": [
  {
   "cell_type": "code",
   "execution_count": null,
   "metadata": {},
   "outputs": [],
   "source": [
    "import numpy as np\n",
    "import pandas as pd\n",
    "import seaborn as sn\n",
    "import matplotlib.pyplot as plt\n",
    "\n",
    "#Using numpy prepare dataset \n",
    "A = [30, 200, 10, 4]\n",
    "B = [40, 300, 20, 4]\n",
    "C = [50, 800, 20, 1]\n",
    "D = [60, 600, 20, 2]\n",
    "E = [40, 300, 20, 5]\n",
    "\n",
    "data_np= np.array([A,B,C,D,E])\n",
    "data_np = np.transpose(data_np)\n",
    "\n",
    "#A Population covariance matrix\n",
    "cov_numpy_P = np.cov(data_np, bias = True) \n",
    "sn.heatmap(cov_numpy_P, annot =True, fmt='g')\n",
    "plt.title(\"A Population covariance matrix Using Numpy\")\n",
    "plt.show()\n",
    "\n",
    "#Sample covaiance matrix\n",
    "cov_numpy_S = np.cov(data_np, bias = False) \n",
    "sn.heatmap(cov_numpy_S, annot=True, fmt='g')\n",
    "plt.title(\"A Sample covariance matrix Using Numpy\")\n",
    "plt.show()\n",
    "\n",
    "#--------------------------------------------------------------------------\n",
    "#Using pandas library to solve Covariance matrix \n",
    "data = {'Age': [30, 40, 50, 60, 40],\n",
    "           'Income': [200, 300, 800, 600,300],\n",
    "           'Yrs worked': [10, 20, 20, 20,20],\n",
    "           'Vacation': [4, 4, 1, 2, 5]}\n",
    "\n",
    "data_pd = pd.DataFrame(data, columns=['Age','Income','Yrs worked', 'Vacation'])\n",
    "\n",
    "#ddof = 0 is Population, limit degree of freedom.\n",
    "cov_pandas_P = data_pd.cov(ddof=0) \n",
    "sn.heatmap(cov_pandas_P,annot=True,fmt='g')\n",
    "plt.title(\"A Population Covariance using pandas\")\n",
    "plt.show()\n",
    "\n",
    "#ddof = 1, sample covariance, degree of freedom is 1\n",
    "cov_pandas_S = data_pd.cov(ddof=1)\n",
    "sn.heatmap(cov_pandas_S,annot=True,fmt='g')\n",
    "plt.title(\"A Sample Covariance using pandas\")\n",
    "plt.show()"
   ]
  }
 ],
 "metadata": {
  "language_info": {
   "name": "python"
  }
 },
 "nbformat": 4,
 "nbformat_minor": 2
}
