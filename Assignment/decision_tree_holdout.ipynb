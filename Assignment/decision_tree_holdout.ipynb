{
 "cells": [
  {
   "cell_type": "code",
   "execution_count": 14,
   "metadata": {},
   "outputs": [],
   "source": [
    "from sklearn.model_selection import train_test_split\n",
    "from sklearn.tree import DecisionTreeClassifier\n",
    "from sklearn.preprocessing import LabelEncoder\n",
    "\n",
    "import pandas as pd\n",
    "import matplotlib.pyplot as plt"
   ]
  },
  {
   "cell_type": "code",
   "execution_count": 17,
   "metadata": {},
   "outputs": [
    {
     "name": "stdout",
     "output_type": "stream",
     "text": [
      "(30, 5)\n",
      "\n",
      "<class 'pandas.core.frame.DataFrame'>\n",
      "RangeIndex: 30 entries, 0 to 29\n",
      "Data columns (total 5 columns):\n",
      " #   Column     Non-Null Count  Dtype \n",
      "---  ------     --------------  ----- \n",
      " 0   level      30 non-null     object\n",
      " 1   lang       30 non-null     object\n",
      " 2   tweets     30 non-null     object\n",
      " 3   phd        30 non-null     object\n",
      " 4   interview  30 non-null     bool  \n",
      "dtypes: bool(1), object(4)\n",
      "memory usage: 1.1+ KB\n",
      "None\n",
      "\n",
      "    level    lang tweets  phd  interview\n",
      "0  senior    java     no   no      False\n",
      "1  senior    java     no  yes      False\n",
      "2     mid  python     no   no       True\n",
      "3  junior  python     no   no       True\n",
      "4  junior       R    yes   no       True\n"
     ]
    }
   ],
   "source": [
    "#load dataset csv\n",
    "dataset = pd.read_csv('C:/Users/ksmin/data_Science/dataset/Week11_DataScience-PHW_evaluation-1-datasets/decision_tree_data.csv')\n",
    "\n",
    "print(dataset.shape)\n",
    "print()\n",
    "print(dataset.info()) #no missing data\n",
    "print()\n",
    "print(dataset.head())"
   ]
  },
  {
   "cell_type": "code",
   "execution_count": 24,
   "metadata": {},
   "outputs": [
    {
     "name": "stdout",
     "output_type": "stream",
     "text": [
      "level ['senior' 'mid' 'junior']\n",
      "lang ['java' 'python' 'R']\n",
      "tweets ['no' 'yes']\n",
      "phd ['no' 'yes']\n",
      "interview [False  True]\n",
      "\n",
      "    level  lang  tweets  phd  interview\n",
      "0      2     1       0    0          0\n",
      "1      2     1       0    1          0\n",
      "2      1     2       0    0          1\n",
      "3      0     2       0    0          1\n",
      "4      0     0       1    0          1\n"
     ]
    }
   ],
   "source": [
    "#Because sklearn model deals int or float like numerical data so we convert string to int by using labelencoder\n",
    "'''\n",
    "Numbers that switch in the label encoder later affect model learning as weights. \n",
    "However, in the case of tree, there is no problem using the label encoder because there is no meaning of weight.\n",
    "'''\n",
    "\n",
    "for column in dataset.columns:\n",
    "    print(column, dataset[column].unique())\n",
    "\n",
    "encoder = LabelEncoder()\n",
    "encoded_df = dataset.apply(encoder.fit_transform)\n",
    "\n",
    "print('\\n',encoded_df.head())\n",
    "#column[level] : senior -> 2, mid -> 1, junior -> 0\n",
    "#column[lang] : java -> 1, python -> 2, R -> 0\n",
    "#column[tweets] : no -> 0, yes -> 1\n",
    "#column[phd] : no -> 0, yes -> 1\n",
    "#column[interview] : no -> 0, yes -> 1"
   ]
  },
  {
   "cell_type": "code",
   "execution_count": 31,
   "metadata": {},
   "outputs": [
    {
     "name": "stdout",
     "output_type": "stream",
     "text": [
      "12\n",
      "0.8333333333333334\n",
      "0.5\n"
     ]
    }
   ],
   "source": [
    "#Dividing the dataset into training, test sets and using the decisiontreeclassifier model to predict\n",
    "def decisiontree(X,y):\n",
    "    #Split data train and test. shuffle true and stratify = y -> preserve portion of train set and test set\n",
    "    x_train, x_test, y_train, y_test = train_test_split(X, y, test_size=0.4, random_state=3,\n",
    "                                                    shuffle=True, stratify=y)\n",
    "    print(len(y_test))\n",
    "\n",
    "    model = DecisionTreeClassifier().fit(x_train, y_train)\n",
    "\n",
    "    #evaluate model using model score. [0~1]\n",
    "    print(model.score(x_train, y_train))\n",
    "    print(model.score(x_test, y_test))\n",
    "\n",
    "#split features and target\n",
    "X = encoded_df.iloc[:,0:4]\n",
    "y = encoded_df.iloc[:,-1]\n",
    "decisiontree(X,y)"
   ]
  }
 ],
 "metadata": {
  "kernelspec": {
   "display_name": "Python 3",
   "language": "python",
   "name": "python3"
  },
  "language_info": {
   "codemirror_mode": {
    "name": "ipython",
    "version": 3
   },
   "file_extension": ".py",
   "mimetype": "text/x-python",
   "name": "python",
   "nbconvert_exporter": "python",
   "pygments_lexer": "ipython3",
   "version": "3.12.1"
  }
 },
 "nbformat": 4,
 "nbformat_minor": 2
}
