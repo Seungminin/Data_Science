{
 "cells": [
  {
   "cell_type": "code",
   "execution_count": 15,
   "metadata": {},
   "outputs": [],
   "source": [
    "from sklearn.neighbors import KNeighborsClassifier\n",
    "from sklearn.model_selection import StratifiedKFold, cross_val_predict, GridSearchCV, RandomizedSearchCV\n",
    "from sklearn.preprocessing import LabelEncoder\n",
    "\n",
    "import pandas as pd\n",
    "import numpy as np"
   ]
  },
  {
   "cell_type": "code",
   "execution_count": 2,
   "metadata": {},
   "outputs": [
    {
     "name": "stdout",
     "output_type": "stream",
     "text": [
      "(75, 3)\n",
      "\n",
      "<class 'pandas.core.frame.DataFrame'>\n",
      "RangeIndex: 75 entries, 0 to 74\n",
      "Data columns (total 3 columns):\n",
      " #   Column     Non-Null Count  Dtype  \n",
      "---  ------     --------------  -----  \n",
      " 0   longitude  75 non-null     float64\n",
      " 1   latitude   75 non-null     float64\n",
      " 2   lang       75 non-null     object \n",
      "dtypes: float64(2), object(1)\n",
      "memory usage: 1.9+ KB\n",
      "None\n",
      "\n",
      "    longitude   latitude     lang\n",
      "0  -86.750000  33.566667   Python\n",
      "1  -88.250000  30.683333   Python\n",
      "2 -112.016667  33.433333     Java\n",
      "3 -110.933333  32.116667     Java\n",
      "4  -92.233333  34.733333        R\n"
     ]
    }
   ],
   "source": [
    "#load dataset csv\n",
    "dataset = pd.read_csv('C:/Users/ksmin/data_Science/dataset/Week11_DataScience-PHW_evaluation-1-datasets/knn_data.csv')\n",
    "\n",
    "print(dataset.shape)\n",
    "print()\n",
    "print(dataset.info()) #no missing data\n",
    "print()\n",
    "print(dataset.head())"
   ]
  },
  {
   "cell_type": "code",
   "execution_count": 13,
   "metadata": {},
   "outputs": [],
   "source": [
    "#conver column lang string data type to int, float\n",
    "encoder = LabelEncoder()\n",
    "encoded_lang = dataset[['lang']].apply(encoder.fit_transform)"
   ]
  },
  {
   "cell_type": "code",
   "execution_count": 35,
   "metadata": {},
   "outputs": [
    {
     "name": "stdout",
     "output_type": "stream",
     "text": [
      "Original model Accuracy :  0.8\n",
      "GridSearchCV Best parameters : {'n_neighbors': 2}, GridSearchCV best score : 0.5733333333333334\n",
      "RandomizedSearchCV Best parameters : {'n_neighbors': 2}, RandomizedSearchCV best score : 0.5733333333333334\n",
      "\n",
      "hypertuned model2  Accuracy: 0.6933333333333334\n"
     ]
    },
    {
     "name": "stderr",
     "output_type": "stream",
     "text": [
      "c:\\Users\\ksmin\\AppData\\Local\\Programs\\Python\\Python312\\Lib\\site-packages\\sklearn\\model_selection\\_search.py:318: UserWarning: The total space of parameters 9 is smaller than n_iter=10. Running 9 iterations. For exhaustive searches, use GridSearchCV.\n",
      "  warnings.warn(\n"
     ]
    }
   ],
   "source": [
    "#Classify dataset using KNN, with K-fold, and check the best hyperparameter, use GridSearchcv, Randomsizedsearchcv\n",
    "def Knn(X,y):\n",
    "    split_num = 5\n",
    "    k_fold = StratifiedKFold(n_splits=split_num, random_state=3, shuffle=True)\n",
    "\n",
    "    model = KNeighborsClassifier(n_neighbors=3)\n",
    "    #evaluate model accuracy.\n",
    "    model.score = cross_val_predict(model, X,y.values.ravel(), cv=k_fold)\n",
    "    print(\"Original model Accuracy : \", model.score.mean())\n",
    "\n",
    "    #new model and will tune hyperparameter n_neighbor\n",
    "    model2 = KNeighborsClassifier()\n",
    "    gscv_param, gscv_best_score = knn_gscv(model2, k_fold,X,y.values.ravel())\n",
    "    rscv_param, rscv_best_score = knn_rscv(model2, k_fold, X,y.values.ravel()) \n",
    "    #Find the best hyperparameter and that scoring.\n",
    "    print(\"GridSearchCV Best parameters : {}, GridSearchCV best score : {}\".format(gscv_param,gscv_best_score))\n",
    "    print(\"RandomizedSearchCV Best parameters : {}, RandomizedSearchCV best score : {}\".format(rscv_param,rscv_best_score))\n",
    "\n",
    "    #hypertuned model2 n_neighbors = 2.\n",
    "    model2 = KNeighborsClassifier(n_neighbors=2)  # Using the optimal n_neighbors value found previously by using knn_gscv,knn_rscv function.\n",
    "    # Evaluate model2 accuracy\n",
    "    model2.score = cross_val_predict(model2, X, y.values.ravel(),cv=k_fold)\n",
    "    print(\"\\nhypertuned model2  Accuracy:\", model2.score.mean())\n",
    "\n",
    "#GridSearchCV\n",
    "def knn_gscv(model, k_fold, X,y):\n",
    "    #n_neighbor is hyperparameter, n_n Neighbors should check from 1 to 75\n",
    "    param_grid = {'n_neighbors' : range(1,10)}\n",
    "    grid_search = GridSearchCV(model, param_grid, cv = k_fold)\n",
    "    grid_search.fit(X, y)\n",
    "    return grid_search.best_params_, grid_search.best_score_\n",
    "\n",
    "#RandomizedSearchCV\n",
    "def knn_rscv(model, k_fold, X,y):\n",
    "    param_dist = {'n_neighbors': range(1, 10)}\n",
    "    random_search = RandomizedSearchCV(model, param_dist, n_iter=10, cv=k_fold)\n",
    "    random_search.fit(X, y)\n",
    "    return random_search.best_params_, random_search.best_score_ \n",
    "\n",
    "X = dataset[['longitude', 'latitude']]\n",
    "y = encoded_lang\n",
    "Knn(X,y)"
   ]
  }
 ],
 "metadata": {
  "kernelspec": {
   "display_name": "Python 3",
   "language": "python",
   "name": "python3"
  },
  "language_info": {
   "codemirror_mode": {
    "name": "ipython",
    "version": 3
   },
   "file_extension": ".py",
   "mimetype": "text/x-python",
   "name": "python",
   "nbconvert_exporter": "python",
   "pygments_lexer": "ipython3",
   "version": "3.12.1"
  }
 },
 "nbformat": 4,
 "nbformat_minor": 2
}
